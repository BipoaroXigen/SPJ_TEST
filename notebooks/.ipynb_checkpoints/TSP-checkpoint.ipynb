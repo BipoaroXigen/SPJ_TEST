{
 "cells": [
  {
   "cell_type": "markdown",
   "metadata": {},
   "source": [
    "# TSP\n",
    "___\n",
    "\n",
    "This notebook includes the demonstration of solving TSP problems with the EO library. It contains calls to several configurations of Evolutinary strategies (ES) and local search (LS) algorithms. The calls are encompanied by several visualizations. Also an interactive interface is present, displaying results of benchmarks of said algorithms in plots."
   ]
  },
  {
   "cell_type": "code",
   "execution_count": 1,
   "metadata": {},
   "outputs": [],
   "source": [
    "#\"\"\"Compile the library\"\"\"\n",
    "using EO\n",
    "using Plots\n",
    "\n",
    "\"\"\"Problems\"\"\"\n",
    "G1, v1   = EO.parse_TSP_problem(\"../TSP_problems/st70\");\n",
    "G2, v2   = EO.parse_TSP_problem(\"../TSP_problems/a280\");\n",
    "G3, v3   = EO.parse_TSP_problem(\"../TSP_problems/att48\");\n",
    "G4, v4   = EO.parse_TSP_problem(\"../TSP_problems/berlin52\");\n",
    "G5, v5   = EO.parse_TSP_problem(\"../TSP_problems/ulysses16\");\n",
    "G6, v6   = EO.parse_TSP_problem(\"../TSP_problems/ulysses22\");\n",
    "G7, v7   = EO.parse_TSP_problem(\"../TSP_problems/ch130\");\n",
    "G8, v8   = EO.parse_TSP_problem(\"../TSP_problems/eil76\");\n",
    "G9, v9   = EO.parse_TSP_problem(\"../TSP_problems/rat195\");\n",
    "G10, v10 = EO.parse_TSP_problem(\"../TSP_problems/pr76\");\n",
    "\n",
    "graphs      = [G1, G2, G3, G4, G5, G6, G7, G8, G9, G10];\n",
    "vertices    = [v1, v2, v3, v4, v5, v6, v7, v8, v9, v10];\n",
    "names       = [\"st70\", \"a280\", \"att48\", \"berlin52\", \"ulysses16\", \"ulysses22\", \"ch130\", \"eil76\", \"rat195\", \"pr76\"];"
   ]
  },
  {
   "cell_type": "markdown",
   "metadata": {},
   "source": [
    "## 2. Local Search\n",
    "\n",
    "\n"
   ]
  },
  {
   "cell_type": "code",
   "execution_count": null,
   "metadata": {},
   "outputs": [],
   "source": [
    "### run parameters setup\n",
    "\n",
    "problem_i = 2\n",
    "\n",
    "G = graphs[problem_i]\n",
    "pop_size = 1\n",
    "dimension = size(G, 1)\n",
    "\n",
    "objective_function  = enclose_arguments(EO.f_dist_sum, G)\n",
    "initialization      = enclose_noargs(TSP_initialization, dimension, pop_size, objective_function)\n",
    "selection           = EO.s_identity\n",
    "crossover           = identity\n",
    "mutation            = [enclose_arguments(EO.order_switch!, G), enclose_arguments(EO.pair_switch!, G), enclose_arguments(EO.weaklink_preturbation!, G)]\n",
    "replacement         = EO.enclose_replacement(r_keep_best_n, pop_size)\n",
    "termination         = enclose_argument(iteration_termination, 50000)    # maximal number of objective function calls\n",
    "### run parameters setup\n",
    "\n",
    "@time order_switch_ls = solvink_hart(objective_function, initialization, selection, crossover, mutation[1], replacement, termination)\n",
    "@time pair_switch_ls  = solvink_hart(objective_function, initialization, selection, crossover, mutation[2], replacement, termination)\n",
    "@time shuffle_ls      = solvink_hart(objective_function, initialization, selection, crossover, mutation[3], replacement, termination)\n",
    "\n",
    "@show order_switch_ls.top_value\n",
    "@show pair_switch_ls.top_value\n",
    "@show shuffle_ls.top_value\n",
    "\n",
    "EO.plot_results(order_switch_ls, vertices[problem_i])"
   ]
  },
  {
   "cell_type": "code",
   "execution_count": null,
   "metadata": {},
   "outputs": [],
   "source": [
    "EO.plot_results(order_switch_ls, \"simple\")"
   ]
  },
  {
   "cell_type": "markdown",
   "metadata": {},
   "source": [
    "Listed work:\n",
    "* LS with pair switch mutation\n",
    "* LS with subsequence reversal mutation\n",
    "* LS with subsequence shuffle"
   ]
  },
  {
   "cell_type": "markdown",
   "metadata": {},
   "source": [
    "## 3. Evolution strategy\n"
   ]
  },
  {
   "cell_type": "code",
   "execution_count": null,
   "metadata": {},
   "outputs": [],
   "source": [
    "### run parameters setup\n",
    "\n",
    "problem_i = 2\n",
    "\n",
    "G = graphs[problem_i]\n",
    "pop_size = 100\n",
    "dimension = size(G, 1)\n",
    "\n",
    "objective_function  = enclose_arguments(EO.f_dist_sum, G)\n",
    "initialization      = enclose_noargs(TSP_initialization, dimension, pop_size, objective_function)\n",
    "selection           = enclose_arguments(s_tournament, pop_size*3, round(Int, pop_size/3))\n",
    "crossover           = [EO.cr_ordered, EO.cr_subtour, EO.cr_edge_recombination]\n",
    "mutation            = enclose_arguments(EO.order_switch!, G)\n",
    "replacement         = EO.enclose_replacement(r_keep_best_n, pop_size)\n",
    "termination         = enclose_argument(iteration_termination, 50000)\n",
    "### run parameters setup\n",
    "\n",
    "@time solution1 = solvink_hart(objective_function, initialization, selection, crossover[1], mutation, replacement, termination)\n",
    "@time solution2 = solvink_hart(objective_function, initialization, selection, crossover[2], mutation, replacement, termination)\n",
    "@time solution3 = solvink_hart(objective_function, initialization, selection, crossover[3], mutation, replacement, termination)\n",
    "\n",
    "\n",
    "@show solution1.top_value\n",
    "@show solution2.top_value\n",
    "@show solution3.top_value\n",
    "\n",
    "EO.plot_results(solution2, vertices[problem_i])\n"
   ]
  },
  {
   "cell_type": "code",
   "execution_count": null,
   "metadata": {},
   "outputs": [],
   "source": [
    "EO.plot_results(solution2, \"simple\")"
   ]
  },
  {
   "cell_type": "markdown",
   "metadata": {},
   "source": [
    "Listed work:\n",
    "* ES with ordered crossover\n",
    "* ES with subtour order exchange crossover\n",
    "* ES with edge recombination crossover"
   ]
  },
  {
   "cell_type": "markdown",
   "metadata": {},
   "source": [
    "## 4. Constructive heuristic\n",
    "\n",
    "The initial solution is not a random sequence of vertices, but a sequence found by the nearest neighbor heuristic. The nearest neighbor heuristic constructs the sequence by always following a vertex by the closest vertex which is not yet included in the route.\n",
    "\n",
    "Both ES and LS do not improve the initial solution much. That is because of the probabilitic nature of the mutations and crossovers which has a very low chance of randomly improving already relatively good solution. Also it forces the algorithm to start in a local optimum which is hard to get out of when the whole population is there."
   ]
  },
  {
   "cell_type": "code",
   "execution_count": null,
   "metadata": {},
   "outputs": [],
   "source": [
    "problem_i = 1\n",
    "\n",
    "G = graphs[problem_i]\n",
    "pop_size = 100\n",
    "dimension = size(G, 1)\n",
    "\n",
    "objective_function  = enclose_arguments(EO.f_dist_sum, G)\n",
    "initialization      = enclose_noargs(EO.TSP_NN_initialization, dimension, 33, objective_function, G)# NN search is expensive, the population is initialized smaller and growns in the next generation\n",
    "selection           = enclose_arguments(s_tournament, pop_size*3, round(Int, pop_size/3))\n",
    "crossover           = EO.cr_subtour\n",
    "mutation            = enclose_arguments(EO.order_switch!, G)\n",
    "replacement         = EO.enclose_replacement(r_keep_best_n, pop_size)\n",
    "termination         = enclose_argument(iteration_termination, 100000)\n",
    "### run parameters setup\n",
    "\n",
    "solution = solvink_hart(objective_function, initialization, selection, crossover, mutation, replacement, termination)\n",
    "@show solution.top_value\n",
    "\n",
    "EO.plot_results(solution, vertices[problem_i])"
   ]
  },
  {
   "cell_type": "code",
   "execution_count": null,
   "metadata": {},
   "outputs": [],
   "source": [
    "EO.plot_results(solution, \"simple\")"
   ]
  },
  {
   "cell_type": "code",
   "execution_count": null,
   "metadata": {},
   "outputs": [],
   "source": [
    "### run parameters setup\n",
    "problem_i = 1\n",
    "\n",
    "G = graphs[problem_i]\n",
    "pop_size = 1\n",
    "dimension = size(G, 1)\n",
    "\n",
    "objective_function  = enclose_arguments(EO.f_dist_sum, G)\n",
    "initialization      = enclose_noargs(EO.TSP_NN_initialization, dimension, pop_size, objective_function, G)\n",
    "selection           = EO.s_identity\n",
    "crossover           = identity\n",
    "mutation            = enclose_arguments(EO.order_switch!, G)\n",
    "replacement         = EO.enclose_replacement(r_keep_best_n, pop_size)\n",
    "termination         = enclose_argument(iteration_termination, 100000)    # maximal number of objective function calls\n",
    "### run parameters setup\n",
    "\n",
    "solution = solvink_hart(objective_function, initialization, selection, crossover, mutation, replacement, termination)\n",
    "@show solution.top_value\n",
    "\n",
    "EO.plot_results(solution, vertices[problem_i])"
   ]
  },
  {
   "cell_type": "code",
   "execution_count": null,
   "metadata": {},
   "outputs": [],
   "source": [
    "EO.plot_results(solution, \"simple\")"
   ]
  },
  {
   "cell_type": "markdown",
   "metadata": {},
   "source": [
    "NN initialization for large instance"
   ]
  },
  {
   "cell_type": "code",
   "execution_count": null,
   "metadata": {},
   "outputs": [],
   "source": [
    "### run parameters setup\n",
    "G, v   = EO.parse_TSP_problem(\"ALL_tsp/d2103\");\n",
    "\n",
    "problem_i = 1\n",
    "\n",
    "pop_size = 1\n",
    "dimension = size(G, 1)\n",
    "\n",
    "objective_function  = enclose_arguments(EO.f_dist_sum, G)\n",
    "initialization      = enclose_noargs(EO.TSP_NN_initialization, dimension, pop_size, objective_function, G)\n",
    "selection           = EO.s_identity\n",
    "crossover           = identity\n",
    "mutation            = enclose_arguments(EO.order_switch!, G)\n",
    "replacement         = EO.enclose_replacement(r_keep_best_n, pop_size)\n",
    "termination         = enclose_argument(iteration_termination, 1000)    # maximal number of objective function calls\n",
    "### run parameters setup\n",
    "\n",
    "solution = solvink_hart(objective_function, initialization, selection, crossover, mutation, replacement, termination)\n",
    "@show solution.top_value\n",
    "\n",
    "EO.plot_results(solution, v)"
   ]
  },
  {
   "cell_type": "markdown",
   "metadata": {},
   "source": [
    "Listed work:\n",
    "* ES with nearest neighbor initialization\n",
    "* LS with nearest neighbor initialization"
   ]
  },
  {
   "cell_type": "markdown",
   "metadata": {},
   "source": [
    "## 5. Memetic algorithm\n",
    "\n",
    "Here is a comparison of performances of two basic memetic algorithms. First one finds initial solution with the use of LS and then optimizes it using ES. The second algorithm finds the initial solution with ES and finishes the optimization with local search."
   ]
  },
  {
   "cell_type": "markdown",
   "metadata": {},
   "source": [
    "Start wih LS and winish with ES"
   ]
  },
  {
   "cell_type": "code",
   "execution_count": null,
   "metadata": {},
   "outputs": [],
   "source": [
    "### setup initial LS\n",
    "problem_i = 2\n",
    "\n",
    "G = graphs[problem_i]\n",
    "pop_size = 1\n",
    "dimension = size(G, 1)\n",
    "\n",
    "objective_function  = enclose_arguments(EO.f_dist_sum, G)\n",
    "initialization      = enclose_noargs(EO.TSP_initialization, dimension, pop_size, objective_function)\n",
    "selection           = EO.s_identity\n",
    "crossover           = identity\n",
    "mutation            = enclose_arguments(EO.order_switch!, G)\n",
    "replacement         = EO.enclose_replacement(r_keep_best_n, pop_size)\n",
    "termination         = enclose_argument(iteration_termination, 2000)    # maximal number of objective function calls\n",
    "\n",
    "### find initial solution with LS\n",
    "solution = solvink_hart(objective_function, initialization, selection, crossover, mutation, replacement, termination)\n",
    "\n",
    "### change to ES\n",
    "pop_size = 100\n",
    "initialization      = enclose_noargs(EO.copy_initialization, dimension, pop_size, objective_function, solution.top_coords) # create population from the BSF solution\n",
    "selection           = enclose_arguments(s_tournament, pop_size*3, round(Int, pop_size/3))\n",
    "crossover           = EO.cr_subtour\n",
    "termination         = enclose_argument(iteration_termination, 500)    # maximal number of objective function calls\n",
    "\n",
    "### finish the search with ES\n",
    "solution = solvink_hart(objective_function, initialization, selection, crossover, mutation, replacement, termination)\n",
    "@show solution.top_value\n",
    "\n",
    "EO.plot_results(solution, vertices[problem_i])"
   ]
  },
  {
   "cell_type": "markdown",
   "metadata": {},
   "source": [
    "Start wih ES and winish with LS"
   ]
  },
  {
   "cell_type": "code",
   "execution_count": null,
   "metadata": {},
   "outputs": [],
   "source": [
    "### run parameters setup\n",
    "problem_i = 2\n",
    "\n",
    "G = graphs[problem_i]\n",
    "pop_size = 100\n",
    "dimension = size(G, 1)\n",
    "\n",
    "objective_function  = enclose_arguments(EO.f_dist_sum, G)\n",
    "initialization      = enclose_noargs(TSP_initialization, dimension, pop_size, objective_function)\n",
    "selection           = enclose_arguments(s_tournament, pop_size*3, round(Int, pop_size/3))\n",
    "crossover           = EO.cr_subtour\n",
    "mutation            = enclose_arguments(EO.order_switch!, G)\n",
    "replacement         = EO.enclose_replacement(r_keep_best_n, pop_size)\n",
    "termination         = enclose_argument(iteration_termination, 500)\n",
    "### run parameters setup\n",
    "\n",
    "solution = solvink_hart(objective_function, initialization, selection, crossover, mutation, replacement, termination)\n",
    "\n",
    "### run parameters setup\n",
    "\n",
    "pop_size = 1\n",
    "\n",
    "initialization      = enclose_noargs(EO.copy_initialization, dimension, pop_size, objective_function, solution.top_coords)\n",
    "selection           = EO.s_identity\n",
    "crossover           = identity\n",
    "replacement         = EO.enclose_replacement(r_keep_best_n, pop_size)\n",
    "termination         = enclose_argument(iteration_termination, 2000)    # maximal number of objective function calls\n",
    "### run parameters setup\n",
    "\n",
    "solution = solvink_hart(objective_function, initialization, selection, crossover, mutation, replacement, termination)\n",
    "@show solution.top_value\n",
    "\n",
    "EO.plot_results(solution, vertices[problem_i])"
   ]
  },
  {
   "cell_type": "markdown",
   "metadata": {},
   "source": [
    "It is visually very clear on all instances tested that, first initializing the problem with LS and then finishing it with ES works better than the other way around (given fixed number of iterations for ES and LS, 500 and 2000 respectively)."
   ]
  },
  {
   "cell_type": "markdown",
   "metadata": {},
   "source": [
    "Listed work:\n",
    "* Initialization by LS, finished by ES\n",
    "* Initialization by ES, finished by LS"
   ]
  },
  {
   "cell_type": "markdown",
   "metadata": {},
   "source": [
    "## 6. Benchmarking results\n",
    "\n",
    "Local search algorithms with all three mutation types were benchmarked on 10 instances of the TSP problem in 10 runs. Each algorithm had a limit of 100000 calls of the objective function.\n",
    "\n",
    "The same was done for evolution strategies, with all three implemented crossovers. All the evolution strategies used the most successful mutation from the LS runs (subsequence reverse)."
   ]
  },
  {
   "cell_type": "markdown",
   "metadata": {},
   "source": [
    "### 6.1 The average performance of LS on a given TSP problem\n",
    "\n",
    "In this subsection local search algorithms benchmark results are shown. \n",
    "\n",
    "A local search algorithm for each of the three implemented mutations (subseq reverse, city swap, subseq shuffle) was bencharked on ten TSP instances.\n",
    "The graph shows an average performance over ten runs on a given problem.\n",
    "\n",
    "The subseq reverse mutation chooses a subsequence of the route and switches its order. The city swap mutation picks two vertices of the route and swaps them for each other. The subseq shuffle mutation selects a subsequence of the route and randomly changes its order.\n",
    "\n",
    "\n",
    "We can see that the subseq reverse mutation is drastically outperforming the two other mutations. The worst performance is seen from the subseq shuffle mutation. Based on the graph subseq shuffle mutation behaves very similar to a normal random search (rapid improvement in the beginning and then almost no improvement afterwards)."
   ]
  },
  {
   "cell_type": "code",
   "execution_count": null,
   "metadata": {},
   "outputs": [],
   "source": [
    "graph_i = 2    # chose any from 1 to 10, corresponds to the list of TSP problems in the introduction\n",
    "names = [\"subseq reverse\", \"city swap\", \"subseq shuffle\"]\n",
    "\n",
    "v1, s1, av1, st1 = plot_TSP_benchmark(\"../benchmarks/TSP/LS_m\"*string(1), 10, 10)\n",
    "v2, s2, av2, st2 = plot_TSP_benchmark(\"../benchmarks/TSP/LS_m\"*string(2), 10, 10)\n",
    "v3, s3, av3, st3 = plot_TSP_benchmark(\"../benchmarks/TSP/LS_m\"*string(3), 10, 10)\n",
    "\n",
    "println(\"length of shortest found sequence: \", min(v1[graph_i]..., v2[graph_i]..., v3[graph_i]...))\n",
    "p = plot(v1[graph_i], ribbon=s1[graph_i],size=(800, 400), legend=:right, labels=names[1], title=\"Performance of LS with different mutations on TSP problem \"*string(graph_i))\n",
    "p = plot!(p, v2[graph_i], labels=names[2], ribbon=s2[graph_i],xlabel=\"100 objective function calls\")\n",
    "p = plot!(p, v3[graph_i], labels=names[3], ribbon=s3[graph_i], ylabel=\"average route length\")"
   ]
  },
  {
   "cell_type": "markdown",
   "metadata": {},
   "source": [
    "The average LS performance over all chosen TSP problems:"
   ]
  },
  {
   "cell_type": "code",
   "execution_count": null,
   "metadata": {},
   "outputs": [],
   "source": [
    "p = plot(av1, size=(800, 400), legend=:right, labels=names[1], title=\"Average performance of LS on all problems\")\n",
    "p = plot!(p, av2, labels=names[2], xlabel=\"100 objective function calls\")\n",
    "p = plot!(p, av3, labels=names[3], ylabel=\"average route length\")"
   ]
  },
  {
   "cell_type": "markdown",
   "metadata": {},
   "source": [
    "### 6.2 The average performance of ES on a given TSP problem\n",
    "\n",
    "In this subsection results of benchmarks of implemented evolution strategies are displayed. \n",
    "\n",
    "An evolution strategy for each of the three implemented crossovers (ordered crossover, subtour order exchange, edge recombination) was benchmarked on ten chosen TSP instances.\n",
    "The graph shows an average performance over ten runs on a given problem.\n",
    "\n",
    "The ordered crossover initializes the children with a subsequence from one parent and then fills the rest of the children with vertices from the other parent, maintaining their order. With the edge recombination crossover, the children does not inherit the vertices from the parents, but instead the edges. The detailed describtion of these two crossovers can be found here: https://cw.fel.cvut.cz/wiki/_media/courses/a0m33eoa/du/puljic2013crossoversforvrp.pdf. The subtour exchange crossover is my own creation, which stems from a misstake when attempting to implement subtour exchange crossover from https://mat.uab.cat/~alseda/MasterOpt/GeneticOperations.pdf. It behaves very similar to ordered crossover, but creates two children from two parents. Both children are initialized as copies of one parent. A subsequence of one children is then chosen and the order of these vertices is exchaged for the order in which the other children has them.\n",
    "\n",
    "Surprisingly the edge recombination crossover performs the worst, whereas the subtour order exchange crossover performs the best even though it is a product of a misstake."
   ]
  },
  {
   "cell_type": "code",
   "execution_count": null,
   "metadata": {},
   "outputs": [],
   "source": [
    "graph_i = 2\n",
    "names = [\"ordered crossover\", \"subtour order exchange\", \"edge recombination\"]\n",
    "\n",
    "v1, s1, av1, st1 = plot_TSP_benchmark(\"../benchmarks/TSP/ES_c\"*string(1), 10, 10)\n",
    "v2, s2, av2, st2 = plot_TSP_benchmark(\"../benchmarks/TSP/ES_c\"*string(2), 10, 10)\n",
    "v3, s3, av3, st3 = plot_TSP_benchmark(\"../benchmarks/TSP/ES_c\"*string(3), 10, 10)\n",
    "\n",
    "println(\"length of shortest found sequence: \", min(v1[graph_i]..., v2[graph_i]..., v3[graph_i]...))\n",
    "p = plot(v1[graph_i], ribbon=s1[graph_i], size=(800, 400), legend=:right, labels=names[1], title=\"Performance of ES with different crossovers on TSP problem \"*string(graph_i))\n",
    "p = plot!(p, v2[graph_i], labels=names[2], ribbon=s2[graph_i], xlabel=\"100 objective function calls\")\n",
    "p = plot!(p, v3[graph_i], labels=names[3], ribbon=s3[graph_i], ylabel=\"average route length\")"
   ]
  },
  {
   "cell_type": "markdown",
   "metadata": {},
   "source": [
    "The average ES performance over all chosen TSP problems:\n",
    "\n",
    "The plot displays the average performance of an ES with given crossover over all ten chosen TSP problems."
   ]
  },
  {
   "cell_type": "code",
   "execution_count": null,
   "metadata": {},
   "outputs": [],
   "source": [
    "p = plot(av1, size=(800, 400), legend=:right, labels=names[1], title=\"Average performance of ES on all problems\")\n",
    "p = plot!(p, av2, labels=names[2], xlabel=\"100 objective function calls\")\n",
    "p = plot!(p, av3, labels=names[3], ylabel=\"average route length\")"
   ]
  },
  {
   "cell_type": "markdown",
   "metadata": {},
   "source": [
    "## 7. conclusions \n",
    "\n",
    "LS performs well, especially on small instances. My configurations of ESs reached similar results, but in longer time. Their perfrmance is very depending on choice of crossover and efficiency of the crossover implementation.\n",
    "The memetic algorithms were really good especially when the initial solution was found by the LS.\n",
    "constructive heuristic returns good solution, but the contribution of ES ans LS on its final form is negligible, because it causes the whole population to start in a local optimum making it hard to move anywhere."
   ]
  }
 ],
 "metadata": {
  "kernelspec": {
   "display_name": "Julia 1.10.5",
   "language": "julia",
   "name": "julia-1.10"
  },
  "language_info": {
   "file_extension": ".jl",
   "mimetype": "application/julia",
   "name": "julia",
   "version": "1.10.5"
  }
 },
 "nbformat": 4,
 "nbformat_minor": 4
}
