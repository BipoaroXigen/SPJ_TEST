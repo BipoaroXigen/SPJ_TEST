{
 "cells": [
  {
   "cell_type": "markdown",
   "metadata": {},
   "source": [
    "# The local search lab"
   ]
  },
  {
   "cell_type": "code",
   "execution_count": 18,
   "metadata": {},
   "outputs": [
    {
     "data": {
      "text/plain": [
       "bin2real (generic function with 2 methods)"
      ]
     },
     "metadata": {},
     "output_type": "display_data"
    }
   ],
   "source": [
    "include(\"structs.jl\")\n",
    "include(\"utils.jl\")"
   ]
  },
  {
   "cell_type": "markdown",
   "metadata": {},
   "source": [
    "## Fitness functions"
   ]
  },
  {
   "cell_type": "code",
   "execution_count": 19,
   "metadata": {},
   "outputs": [
    {
     "data": {
      "text/plain": [
       "f_rosenbrock (generic function with 1 method)"
      ]
     },
     "metadata": {},
     "output_type": "display_data"
    }
   ],
   "source": [
    "include(\"objective_functions.jl\")"
   ]
  },
  {
   "cell_type": "markdown",
   "metadata": {},
   "source": [
    "## For binary chromosomes"
   ]
  },
  {
   "cell_type": "code",
   "execution_count": 20,
   "metadata": {},
   "outputs": [
    {
     "data": {
      "text/plain": [
       "BinaryChromosome(Bool[0, 1, 0, 1, 0, 1], 6)"
      ]
     },
     "metadata": {},
     "output_type": "display_data"
    }
   ],
   "source": [
    "binary_chromosome = get_binary_chromosome([0,1,0,1,0,1])"
   ]
  },
  {
   "cell_type": "markdown",
   "metadata": {},
   "source": [
    "### OneMax\n",
    "The sum of true values"
   ]
  },
  {
   "cell_type": "code",
   "execution_count": 21,
   "metadata": {},
   "outputs": [
    {
     "data": {
      "text/plain": [
       "3"
      ]
     },
     "metadata": {},
     "output_type": "display_data"
    }
   ],
   "source": [
    "f_onemax(binary_chromosome)"
   ]
  },
  {
   "cell_type": "markdown",
   "metadata": {},
   "source": [
    "### LABS\n",
    "No clue wtf this means"
   ]
  },
  {
   "cell_type": "code",
   "execution_count": 22,
   "metadata": {},
   "outputs": [
    {
     "data": {
      "text/plain": [
       "55.0"
      ]
     },
     "metadata": {},
     "output_type": "display_data"
    }
   ],
   "source": [
    "f_LABS(binary_chromosome)"
   ]
  },
  {
   "cell_type": "markdown",
   "metadata": {},
   "source": [
    "## For vectors of real numbers (real numbered chromosomes)"
   ]
  },
  {
   "cell_type": "code",
   "execution_count": 23,
   "metadata": {},
   "outputs": [
    {
     "data": {
      "text/plain": [
       "RealChromosome(Real[1, 2, 3, 4, 5, 6, 7], 7)"
      ]
     },
     "metadata": {},
     "output_type": "display_data"
    }
   ],
   "source": [
    "real_chromosome = get_real_chromosome([1,2,3,4,5,6,7])"
   ]
  },
  {
   "cell_type": "markdown",
   "metadata": {},
   "source": [
    "### Sphere"
   ]
  },
  {
   "cell_type": "code",
   "execution_count": 24,
   "metadata": {},
   "outputs": [
    {
     "data": {
      "text/plain": [
       "446.85999999999996"
      ]
     },
     "metadata": {},
     "output_type": "display_data"
    }
   ],
   "source": [
    "f_sphere(real_chromosome, [1,2,3,4,5,6,7])\n",
    "f_sphere(get_real_chromosome([-0.1, -1.2, -2.3, -3.4, -4.5, -5.6, -6.7, -7.8, -8.9, -9.1]), ones(10))"
   ]
  },
  {
   "cell_type": "markdown",
   "metadata": {},
   "source": [
    "### Rosenbrock"
   ]
  },
  {
   "cell_type": "code",
   "execution_count": 25,
   "metadata": {},
   "outputs": [
    {
     "data": {
      "text/plain": [
       "135055.0"
      ]
     },
     "metadata": {},
     "output_type": "display_data"
    }
   ],
   "source": [
    "f_rosenbrock(real_chromosome)"
   ]
  },
  {
   "cell_type": "markdown",
   "metadata": {},
   "source": [
    "## Test bin2real"
   ]
  },
  {
   "cell_type": "markdown",
   "metadata": {},
   "source": [
    "### 1D"
   ]
  },
  {
   "cell_type": "code",
   "execution_count": 26,
   "metadata": {},
   "outputs": [
    {
     "name": "stdout",
     "output_type": "stream",
     "text": [
      "bin2real(0, 1, x) = [0.0]\n",
      "bin2real(0, 1, x) = [0.2857142857142857]\n",
      "bin2real(0, 1, x) = [0.0002442002442002442]\n"
     ]
    },
    {
     "data": {
      "text/plain": [
       "1-element Vector{Float64}:\n",
       " 0.0002442002442002442"
      ]
     },
     "metadata": {},
     "output_type": "display_data"
    }
   ],
   "source": [
    "x = get_binary_chromosome([0]);\n",
    "@show bin2real(0, 1, x)\n",
    "x = get_binary_chromosome([0,1,0]);\n",
    "@show bin2real(0, 1, x)\n",
    "x = get_binary_chromosome([0 0 0 0 0 0 0 0 0 0 0 1]);\n",
    "@show bin2real(0, 1, x)"
   ]
  },
  {
   "cell_type": "markdown",
   "metadata": {},
   "source": [
    "works"
   ]
  },
  {
   "cell_type": "markdown",
   "metadata": {},
   "source": [
    "### 2D"
   ]
  },
  {
   "cell_type": "code",
   "execution_count": 27,
   "metadata": {},
   "outputs": [
    {
     "data": {
      "text/plain": [
       "\"The binary vector length is not divisible by the dimensionality of the target vector space.\""
      ]
     },
     "metadata": {},
     "output_type": "display_data"
    },
    {
     "name": "stdout",
     "output_type": "stream",
     "text": [
      "bin2real(lb, ub, x) = Float64[]\n",
      "\n",
      "bin2real(lb, ub, x) = [0.0, 1.0]\n",
      "\n",
      "bin2real(lb, ub, x) = [0.0, 0.015873015873015872]\n"
     ]
    }
   ],
   "source": [
    "lb = [0,0]\n",
    "ub = [1,1]\n",
    "x = get_binary_chromosome([0])\n",
    "@show bin2real(lb, ub, x)\n",
    "println()\n",
    "\n",
    "x = get_binary_chromosome([0,1])\n",
    "@show bin2real(lb, ub, x)\n",
    "println()\n",
    "\n",
    "x = get_binary_chromosome([0 0 0 0 0 0 0 0 0 0 0 1])\n",
    "@show bin2real(lb, ub, x);"
   ]
  },
  {
   "cell_type": "markdown",
   "metadata": {},
   "source": [
    "works"
   ]
  },
  {
   "cell_type": "markdown",
   "metadata": {},
   "source": [
    "### 3D"
   ]
  },
  {
   "cell_type": "code",
   "execution_count": 28,
   "metadata": {},
   "outputs": [
    {
     "data": {
      "text/plain": [
       "\"The binary vector length is not divisible by the dimensionality of the target vector space.\""
      ]
     },
     "metadata": {},
     "output_type": "display_data"
    },
    {
     "name": "stdout",
     "output_type": "stream",
     "text": [
      "bin2real(lb, ub, x) = Float64[]\n",
      "\n",
      "bin2real(lb, ub, x) = [0.0, 7.0, 8.0]\n",
      "\n",
      "bin2real(lb, ub, x) = [0.0, -8.0, -6.933333333333334]\n"
     ]
    }
   ],
   "source": [
    "lb = [0,-8,-8]\n",
    "ub = [15,7,8]\n",
    "x = get_binary_chromosome([0])\n",
    "@show bin2real(lb, ub, x)\n",
    "println()\n",
    "\n",
    "x = get_binary_chromosome([0,1, 1])\n",
    "@show bin2real(lb, ub, x)\n",
    "println()\n",
    "\n",
    "x = get_binary_chromosome([0 0 0 0 0 0 0 0 0 0 0 1])\n",
    "@show bin2real(lb, ub, x);"
   ]
  },
  {
   "cell_type": "code",
   "execution_count": 29,
   "metadata": {},
   "outputs": [
    {
     "data": {
      "text/plain": [
       "\"The binary vector length is not divisible by the dimensionality of the target vector space.\""
      ]
     },
     "metadata": {},
     "output_type": "display_data"
    },
    {
     "data": {
      "text/plain": [
       "\"The binary vector length is not divisible by the dimensionality of the target vector space.\""
      ]
     },
     "metadata": {},
     "output_type": "display_data"
    },
    {
     "name": "stdout",
     "output_type": "stream",
     "text": [
      "bin2real(lb, ub, x) = Float64[]\n",
      "\n",
      "bin2real(lb, ub, x) = Float64[]\n",
      "\n",
      "bin2real(lb, ub, x) = [0.0, 1.0, 2.0, 3.0, 4.0, 7.333333333333334]\n"
     ]
    },
    {
     "data": {
      "text/plain": [
       "6-element Vector{Float64}:\n",
       " 0.0\n",
       " 1.0\n",
       " 2.0\n",
       " 3.0\n",
       " 4.0\n",
       " 7.333333333333334"
      ]
     },
     "metadata": {},
     "output_type": "display_data"
    }
   ],
   "source": [
    "# 6D\n",
    "lb = [0,1,2,3,4,5]\n",
    "ub = [2,4,6,8,10,12]\n",
    "x = get_binary_chromosome([0])\n",
    "@show bin2real(lb, ub, x)\n",
    "println()\n",
    "\n",
    "x = get_binary_chromosome([0,1, 1])\n",
    "@show bin2real(lb, ub, x)\n",
    "println()\n",
    "\n",
    "x = get_binary_chromosome([0 0 0 0 0 0 0 0 0 0 0 1])\n",
    "@show bin2real(lb, ub, x);\n",
    "\n",
    "# werchs"
   ]
  }
 ],
 "metadata": {
  "kernelspec": {
   "display_name": "Julia 1.10.5",
   "language": "julia",
   "name": "julia-1.10"
  },
  "language_info": {
   "file_extension": ".jl",
   "mimetype": "application/julia",
   "name": "julia",
   "version": "1.10.5"
  }
 },
 "nbformat": 4,
 "nbformat_minor": 2
}
