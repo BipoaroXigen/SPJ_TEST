{
 "cells": [
  {
   "cell_type": "markdown",
   "metadata": {},
   "source": [
    "# Benchmark"
   ]
  },
  {
   "cell_type": "markdown",
   "metadata": {},
   "source": [
    "Problems selector"
   ]
  },
  {
   "cell_type": "code",
   "execution_count": 1,
   "metadata": {},
   "outputs": [
    {
     "data": {
      "text/plain": [
       "unsimple_problems"
      ]
     },
     "metadata": {},
     "output_type": "display_data"
    }
   ],
   "source": [
    "using EO\n",
    "using FileIO, JLD2\n",
    "\n",
    "\"\"\"simple problems\"\"\"\n",
    "simple_problems = EO.setup_simple_problems() # definitions of problems g06,g08,g11,g24\n",
    "#usage: g6 objective = simple_problems[1].objecitve, g6 constraints = simple_problems[1].constraints\n",
    "\n",
    "\"\"\"unsimple problems\"\"\"\n",
    "unsimple_problems = EO.setup_unsimple_problems() # definitions of problems g04, g05, g09 and g21."
   ]
  },
  {
   "cell_type": "markdown",
   "metadata": {},
   "source": [
    "Stochastic Ranking"
   ]
  },
  {
   "cell_type": "code",
   "execution_count": 3,
   "metadata": {},
   "outputs": [],
   "source": [
    "for j in 1:4\n",
    "    problem_set = simple_problems\n",
    "    problem_id = j \n",
    "    constraints = problem_set[problem_id].constraints\n",
    "    pop_size = 100\n",
    "    dimension = problem_set[problem_id].dimension\n",
    "    \n",
    "    objective_function  = problem_set[problem_id].objective\n",
    "    initialization      = enclose_noargs(interval_real_initialization, dimension, pop_size, objective_function, 0, 100)\n",
    "    selection           = enclose_arguments(EO.s_stochastic_tournament, 30, 3, constraints, 0.4)\n",
    "    crossover           = enclose_arguments(EO.cr_parent_sum, pop_size)\n",
    "    mutation            = enclose_arguments(gaussian_preturbation!, 0.25)\n",
    "    replacement         = EO.enclose_replacement(EO.r_keep_best_n_stoch, pop_size, constraints, 0.4)\n",
    "    termination         = enclose_argument(iteration_termination, pop_size*100)\n",
    "    \n",
    "    for i in 1:100\n",
    "        solution = solvink_hart(objective_function, initialization, selection, crossover, mutation, replacement, termination; constraints=constraints)\n",
    "        save(joinpath(@__DIR__, \"benchmarks\", \"constr\", \"stoch\", \"ez\", \"problem_\"*string(j)*\"_\"*string(i)*\".jld2\"), \"solution\", solution)\n",
    "    end \n",
    "end\n"
   ]
  },
  {
   "cell_type": "code",
   "execution_count": 13,
   "metadata": {},
   "outputs": [],
   "source": [
    "for j in 1:4\n",
    "    problem_set = unsimple_problems\n",
    "    problem_id = j \n",
    "    constraints = problem_set[problem_id].constraints\n",
    "    pop_size = 100\n",
    "    dimension = problem_set[problem_id].dimension\n",
    "    \n",
    "    objective_function  = problem_set[problem_id].objective\n",
    "    initialization      = enclose_noargs(interval_real_initialization, dimension, pop_size, objective_function, 0, 100)\n",
    "    selection           = enclose_arguments(EO.s_stochastic_tournament, 30, 3, constraints, 0.4)\n",
    "    crossover           = enclose_arguments(EO.cr_parent_sum, pop_size)\n",
    "    mutation            = enclose_arguments(gaussian_preturbation!, 0.25)\n",
    "    replacement         = EO.enclose_replacement(EO.r_keep_best_n_stoch, pop_size, constraints, 0.4)\n",
    "    termination         = enclose_argument(iteration_termination, pop_size*100)\n",
    "    \n",
    "    for i in 1:100\n",
    "        solution = solvink_hart(objective_function, initialization, selection, crossover, mutation, replacement, termination; constraints=constraints)\n",
    "        save(joinpath(@__DIR__, \"benchmarks\", \"constr\", \"stoch\", \"hard\", \"problem_\"*string(j)*\"_\"*string(i)*\".jld2\"), \"solution\", solution)\n",
    "    end \n",
    "end"
   ]
  },
  {
   "cell_type": "markdown",
   "metadata": {},
   "source": [
    "MOEA"
   ]
  },
  {
   "cell_type": "code",
   "execution_count": 2,
   "metadata": {},
   "outputs": [],
   "source": [
    "for j in 1:4\n",
    "    problem_set = simple_problems\n",
    "    problem_id = j \n",
    "    constraints = problem_set[problem_id].constraints\n",
    "    pop_size = 100\n",
    "    dimension = problem_set[problem_id].dimension\n",
    "    \n",
    "    f_pens(x::RealChromosome, constraints::Vector{EO.Constraint}) = sum(EO.Gs(x, constraints))\n",
    "\n",
    "    F = typeof(enclose_arguments(EO.f_weighted_sum, ones(dimension)))\n",
    "    objective_function  = EO.MultiObjFunction{F}([problem_set[problem_id].objective, enclose_arguments(f_pens, constraints)])\n",
    "    initialization      = enclose_noargs(interval_real_initialization, dimension, pop_size, objective_function, 0, 100)\n",
    "    selection           = enclose_arguments(EO.s_tournament, 30, 5)\n",
    "    crossover           = enclose_arguments(EO.cr_parent_sum, pop_size)\n",
    "    mutation            = enclose_arguments(gaussian_preturbation!, 0.25)\n",
    "    replacement         = EO.enclose_replacement(EO.r_NSGA, pop_size)\n",
    "    termination         = enclose_argument(iteration_termination, pop_size*100)\n",
    "    \n",
    "    for i in 1:100\n",
    "        solution = solvink_hart(objective_function, initialization, selection, crossover, mutation, replacement, termination)\n",
    "        save(joinpath(@__DIR__, \"benchmarks\", \"constr\", \"MOEA\", \"ez\", \"problem_\"*string(j)*\"_\"*string(i)*\".jld2\"), \"solution\", solution)\n",
    "    end \n",
    "end"
   ]
  },
  {
   "cell_type": "code",
   "execution_count": 2,
   "metadata": {},
   "outputs": [],
   "source": [
    "for j in 3:4\n",
    "    problem_set = unsimple_problems\n",
    "    problem_id = j \n",
    "    constraints = problem_set[problem_id].constraints\n",
    "    pop_size = 100\n",
    "    dimension = problem_set[problem_id].dimension\n",
    "    \n",
    "    f_pens(x::RealChromosome, constraints::Vector{EO.Constraint}) = sum(EO.Gs(x, constraints))\n",
    "\n",
    "    F = typeof(enclose_arguments(EO.f_weighted_sum, ones(dimension)))\n",
    "    objective_function  = EO.MultiObjFunction{F}([problem_set[problem_id].objective, enclose_arguments(f_pens, constraints)])\n",
    "    initialization      = enclose_noargs(interval_real_initialization, dimension, pop_size, objective_function, 0, 100)\n",
    "    selection           = enclose_arguments(EO.s_tournament, 30, 5)\n",
    "    crossover           = enclose_arguments(EO.cr_parent_sum, pop_size)\n",
    "    mutation            = enclose_arguments(gaussian_preturbation!, 0.25)\n",
    "    replacement         = EO.enclose_replacement(EO.r_NSGA, pop_size)\n",
    "    termination         = enclose_argument(iteration_termination, pop_size*100)\n",
    "    \n",
    "    for i in 1:100\n",
    "        solution = solvink_hart(objective_function, initialization, selection, crossover, mutation, replacement, termination)\n",
    "        save(joinpath(@__DIR__, \"benchmarks\", \"constr\", \"MOEA\", \"hard\", \"problem_\"*string(j)*\"_\"*string(i)*\".jld2\"), \"solution\", solution)\n",
    "    end \n",
    "end"
   ]
  },
  {
   "cell_type": "markdown",
   "metadata": {},
   "source": [
    "adaptive penalization"
   ]
  },
  {
   "cell_type": "code",
   "execution_count": 2,
   "metadata": {},
   "outputs": [],
   "source": [
    "for j in 1:4\n",
    "    problem_set = simple_problems\n",
    "    problem_id = j \n",
    "    constraints = problem_set[problem_id].constraints\n",
    "    penatly = EO.p_non_linear   # rg*sum(G(constraints)).^2\n",
    "    pop_size = 100\n",
    "    dimension = problem_set[problem_id].dimension\n",
    "    \n",
    "    objective_function  = problem_set[problem_id].objective\n",
    "    initialization      = enclose_noargs(interval_real_initialization, dimension, pop_size, objective_function, 0, 100)\n",
    "    selection           = enclose_arguments(EO.s_tournament, 30, 3)\n",
    "    crossover           = enclose_arguments(EO.cr_parent_sum, pop_size)\n",
    "    mutation            = enclose_arguments(gaussian_preturbation!, 0.25)\n",
    "    replacement         = EO.enclose_replacement(EO.r_keep_best_n, pop_size)\n",
    "    termination         = enclose_argument(iteration_termination, pop_size*100)\n",
    "    \n",
    "    for i in 1:100\n",
    "        solution = solvink_hart(objective_function, initialization, selection, crossover, mutation, replacement, termination; constraints=constraints, penalty=penatly)\n",
    "        save(joinpath(@__DIR__, \"benchmarks\", \"constr\", \"rg\", \"ez\", \"problem_\"*string(j)*\"_\"*string(i)*\".jld2\"), \"solution\", solution)\n",
    "    end \n",
    "end"
   ]
  },
  {
   "cell_type": "code",
   "execution_count": 4,
   "metadata": {},
   "outputs": [],
   "source": [
    "for j in 1:4\n",
    "    problem_set = unsimple_problems\n",
    "    problem_id = j \n",
    "    constraints = problem_set[problem_id].constraints\n",
    "    penatly = EO.p_non_linear   # rg*sum(G(constraints)).^2\n",
    "    pop_size = 100\n",
    "    dimension = problem_set[problem_id].dimension\n",
    "    \n",
    "    objective_function  = problem_set[problem_id].objective\n",
    "    initialization      = enclose_noargs(interval_real_initialization, dimension, pop_size, objective_function, 0, 100)\n",
    "    selection           = enclose_arguments(EO.s_tournament, 30, 3)\n",
    "    crossover           = enclose_arguments(EO.cr_parent_sum, pop_size)\n",
    "    mutation            = enclose_arguments(gaussian_preturbation!, 0.25)\n",
    "    replacement         = EO.enclose_replacement(EO.r_keep_best_n, pop_size)\n",
    "    termination         = enclose_argument(iteration_termination, pop_size*100)\n",
    "    \n",
    "    for i in 1:100\n",
    "        solution = solvink_hart(objective_function, initialization, selection, crossover, mutation, replacement, termination; constraints=constraints, penalty=penatly)\n",
    "        save(joinpath(@__DIR__, \"benchmarks\", \"constr\", \"rg\", \"hard\", \"problem_\"*string(j)*\"_\"*string(i)*\".jld2\"), \"solution\", solution)\n",
    "    end \n",
    "end"
   ]
  },
  {
   "cell_type": "markdown",
   "metadata": {},
   "source": [
    "adaptive penalization, vectorized rg"
   ]
  },
  {
   "cell_type": "code",
   "execution_count": 5,
   "metadata": {},
   "outputs": [],
   "source": [
    "for j in 1:4\n",
    "    problem_set = simple_problems\n",
    "    problem_id = j \n",
    "    constraints = problem_set[problem_id].constraints\n",
    "    penatly = EO.p_non_linear   # rg*sum(G(constraints)).^2\n",
    "    pop_size = 100\n",
    "    dimension = problem_set[problem_id].dimension\n",
    "    \n",
    "    objective_function  = problem_set[problem_id].objective\n",
    "    initialization      = enclose_noargs(interval_real_initialization, dimension, pop_size, objective_function, 0, 100)\n",
    "    selection           = enclose_arguments(EO.s_tournament, 30, 3)\n",
    "    crossover           = enclose_arguments(EO.cr_parent_sum, pop_size)\n",
    "    mutation            = enclose_arguments(gaussian_preturbation!, 0.25)\n",
    "    replacement         = EO.enclose_replacement(EO.r_keep_best_n, pop_size)\n",
    "    termination         = enclose_argument(iteration_termination, pop_size*100)\n",
    "    \n",
    "    for i in 1:100\n",
    "        solution = solvink_hart(objective_function, initialization, selection, crossover, mutation, replacement, termination, \"vec\"; constraints=constraints, penalty=penatly)\n",
    "        save(joinpath(@__DIR__, \"benchmarks\", \"constr\", \"rg_vec\", \"ez\", \"problem_\"*string(j)*\"_\"*string(i)*\".jld2\"), \"solution\", solution)\n",
    "    end\n",
    "end"
   ]
  },
  {
   "cell_type": "code",
   "execution_count": 6,
   "metadata": {},
   "outputs": [],
   "source": [
    "for j in 1:4\n",
    "    problem_set = unsimple_problems\n",
    "    problem_id = j \n",
    "    constraints = problem_set[problem_id].constraints\n",
    "    penatly = EO.p_non_linear   # rg*sum(G(constraints)).^2\n",
    "    pop_size = 100\n",
    "    dimension = problem_set[problem_id].dimension\n",
    "    \n",
    "    objective_function  = problem_set[problem_id].objective\n",
    "    initialization      = enclose_noargs(interval_real_initialization, dimension, pop_size, objective_function, 0, 100)\n",
    "    selection           = enclose_arguments(EO.s_tournament, 30, 3)\n",
    "    crossover           = enclose_arguments(EO.cr_parent_sum, pop_size)\n",
    "    mutation            = enclose_arguments(gaussian_preturbation!, 0.25)\n",
    "    replacement         = EO.enclose_replacement(EO.r_keep_best_n, pop_size)\n",
    "    termination         = enclose_argument(iteration_termination, pop_size*100)\n",
    "    \n",
    "    for i in 1:100\n",
    "        solution = solvink_hart(objective_function, initialization, selection, crossover, mutation, replacement, termination, \"vec\"; constraints=constraints, penalty=penatly)\n",
    "        save(joinpath(@__DIR__, \"benchmarks\", \"constr\", \"rg_vec\", \"hard\", \"problem_\"*string(j)*\"_\"*string(i)*\".jld2\"), \"solution\", solution)\n",
    "    end \n",
    "end"
   ]
  },
  {
   "cell_type": "markdown",
   "metadata": {},
   "source": [
    "MMOEA"
   ]
  },
  {
   "cell_type": "code",
   "execution_count": 3,
   "metadata": {},
   "outputs": [],
   "source": [
    "for j in 1:4\n",
    "    problem_set = simple_problems\n",
    "    problem_id = j \n",
    "    constraints = problem_set[problem_id].constraints\n",
    "    pop_size = 100\n",
    "    dimension = problem_set[problem_id].dimension\n",
    "\n",
    "    f_pens(x::RealChromosome, constraints::Vector{EO.Constraint}) = sum(EO.Gs(x, constraints))\n",
    "    objectives = Vector{Any}([problem_set[problem_id].objective])\n",
    "    for constraint in constraints\n",
    "        push!(objectives, constraint)\n",
    "    end\n",
    "    \n",
    "    F = typeof(f_pens)\n",
    "    objective_function  = EO.MultiObjFunction{F}(objectives)\n",
    "    initialization      = enclose_noargs(interval_real_initialization, dimension, pop_size, objective_function, 0, 100)\n",
    "    selection           = enclose_arguments(EO.s_tournament, 30, 3)\n",
    "    crossover           = enclose_arguments(EO.cr_parent_sum, pop_size)\n",
    "    mutation            = enclose_arguments(gaussian_preturbation!, 0.25)\n",
    "    replacement         = EO.enclose_replacement(EO.r_NSGA, pop_size)\n",
    "    termination         = enclose_argument(iteration_termination, pop_size*100)\n",
    "    \n",
    "    for i in 1:100\n",
    "        solution = solvink_hart(objective_function, initialization, selection, crossover, mutation, replacement, termination)\n",
    "        save(joinpath(@__DIR__, \"benchmarks\", \"constr\", \"MMOEA\", \"ez\", \"problem_\"*string(j)*\"_\"*string(i)*\".jld2\"), \"solution\", solution)\n",
    "    end \n",
    "end"
   ]
  },
  {
   "cell_type": "code",
   "execution_count": 4,
   "metadata": {},
   "outputs": [],
   "source": [
    "for j in 1:4\n",
    "    problem_set = unsimple_problems\n",
    "    problem_id = j \n",
    "    constraints = problem_set[problem_id].constraints\n",
    "    pop_size = 100\n",
    "    dimension = problem_set[problem_id].dimension\n",
    "\n",
    "    f_pens(x::RealChromosome, constraints::Vector{EO.Constraint}) = sum(EO.Gs(x, constraints))\n",
    "    objectives = Vector{Any}([problem_set[problem_id].objective])\n",
    "    for constraint in constraints\n",
    "        push!(objectives, constraint)\n",
    "    end\n",
    "    \n",
    "    F = typeof(f_pens)\n",
    "    objective_function  = EO.MultiObjFunction{F}(objectives)\n",
    "    initialization      = enclose_noargs(interval_real_initialization, dimension, pop_size, objective_function, 0, 100)\n",
    "    selection           = enclose_arguments(EO.s_tournament, 30, 3)\n",
    "    crossover           = enclose_arguments(EO.cr_parent_sum, pop_size)\n",
    "    mutation            = enclose_arguments(gaussian_preturbation!, 0.25)\n",
    "    replacement         = EO.enclose_replacement(EO.r_NSGA, pop_size)\n",
    "    termination         = enclose_argument(iteration_termination, pop_size*100)\n",
    "    \n",
    "    for i in 1:100\n",
    "        solution = solvink_hart(objective_function, initialization, selection, crossover, mutation, replacement, termination)\n",
    "        save(joinpath(@__DIR__, \"benchmarks\", \"constr\", \"MMOEA\", \"hard\", \"problem_\"*string(j)*\"_\"*string(i)*\".jld2\"), \"solution\", solution)\n",
    "    end \n",
    "end"
   ]
  },
  {
   "cell_type": "markdown",
   "metadata": {},
   "source": [
    "### Kim Jong Un\n",
    "\n",
    "Constraint vialation is being handled by imposing the death penalty."
   ]
  },
  {
   "cell_type": "code",
   "execution_count": 7,
   "metadata": {},
   "outputs": [],
   "source": [
    "for j in 1:4\n",
    "    problem_set = simple_problems\n",
    "    problem_id = j \n",
    "    constraints = problem_set[problem_id].constraints\n",
    "    pop_size = 100\n",
    "    dimension = problem_set[problem_id].dimension\n",
    "\n",
    "    penatly = (x...) -> EO.death_penalty(x..., Inf)     # real numbers led to huge violations, strict measures had to be carried out\n",
    "    \n",
    "    objective_function  = problem_set[problem_id].objective\n",
    "    initialization      = enclose_noargs(interval_real_initialization, dimension, pop_size, objective_function, 0, 100)\n",
    "    selection           = enclose_arguments(EO.s_tournament, 30, 3)\n",
    "    crossover           = enclose_arguments(EO.cr_parent_sum, pop_size)\n",
    "    mutation            = enclose_arguments(gaussian_preturbation!, 0.25)\n",
    "    replacement         = EO.enclose_replacement(EO.r_keep_best_n, pop_size)\n",
    "    termination         = enclose_argument(iteration_termination, pop_size*100)\n",
    "    \n",
    "    for i in 1:100\n",
    "        solution = solvink_hart(objective_function, initialization, selection, crossover, mutation, replacement, termination; constraints=constraints, penalty=penatly)\n",
    "        save(joinpath(@__DIR__, \"benchmarks\", \"constr\", \"kim\", \"ez\", \"problem_\"*string(j)*\"_\"*string(i)*\".jld2\"), \"solution\", solution)\n",
    "    end \n",
    "end"
   ]
  },
  {
   "cell_type": "code",
   "execution_count": 8,
   "metadata": {},
   "outputs": [],
   "source": [
    "for j in 1:4\n",
    "    problem_set = unsimple_problems\n",
    "    problem_id = j \n",
    "    constraints = problem_set[problem_id].constraints\n",
    "    pop_size = 100\n",
    "    dimension = problem_set[problem_id].dimension\n",
    "\n",
    "    penatly = (x...) -> EO.death_penalty(x..., Inf)     # real numbers led to huge violations, strict measures had to be carried out\n",
    "    \n",
    "    objective_function  = problem_set[problem_id].objective\n",
    "    initialization      = enclose_noargs(interval_real_initialization, dimension, pop_size, objective_function, 0, 100)\n",
    "    selection           = enclose_arguments(EO.s_tournament, 30, 3)\n",
    "    crossover           = enclose_arguments(EO.cr_parent_sum, pop_size)\n",
    "    mutation            = enclose_arguments(gaussian_preturbation!, 0.25)\n",
    "    replacement         = EO.enclose_replacement(EO.r_keep_best_n, pop_size)\n",
    "    termination         = enclose_argument(iteration_termination, pop_size*100)\n",
    "    \n",
    "    for i in 1:100\n",
    "        solution = solvink_hart(objective_function, initialization, selection, crossover, mutation, replacement, termination; constraints=constraints, penalty=penatly)\n",
    "        save(joinpath(@__DIR__, \"benchmarks\", \"constr\", \"kim\", \"hard\", \"problem_\"*string(j)*\"_\"*string(i)*\".jld2\"), \"solution\", solution)\n",
    "    end \n",
    "end"
   ]
  },
  {
   "cell_type": "markdown",
   "metadata": {},
   "source": [
    "NSGA-II with modified tournament operator"
   ]
  },
  {
   "cell_type": "code",
   "execution_count": 7,
   "metadata": {},
   "outputs": [],
   "source": [
    "for j in 1:4\n",
    "    problem_set = simple_problems\n",
    "    problem_id = j \n",
    "    constraints = problem_set[problem_id].constraints\n",
    "    pop_size = 100\n",
    "    dimension = problem_set[problem_id].dimension\n",
    "\n",
    "    f_pens(x::RealChromosome, constraints::Vector{EO.Constraint}) = sum(EO.Gs(x, constraints))\n",
    "    \n",
    "    F = typeof(enclose_arguments(EO.f_weighted_sum, ones(dimension)))\n",
    "    objective_function  = EO.MultiObjFunction{F}([problem_set[problem_id].objective, enclose_arguments(f_pens, constraints)])\n",
    "    initialization      = enclose_noargs(interval_real_initialization, dimension, pop_size, objective_function, 0, 100)\n",
    "    selection           = enclose_arguments(EO.s_tournament, 30, 3)\n",
    "    crossover           = enclose_arguments(EO.cr_parent_sum, pop_size)\n",
    "    mutation            = enclose_arguments(gaussian_preturbation!, 0.25)\n",
    "    replacement         = EO.enclose_replacement(EO.r_cNSGA, pop_size, constraints)\n",
    "    termination         = enclose_argument(iteration_termination, pop_size*100)\n",
    "    \n",
    "    for i in 1:100\n",
    "        solution = solvink_hart(objective_function, initialization, selection, crossover, mutation, replacement, termination)\n",
    "        save(joinpath(@__DIR__, \"benchmarks\", \"constr\", \"NSGA2\", \"ez\", \"problem_\"*string(j)*\"_\"*string(i)*\".jld2\"), \"solution\", solution)\n",
    "    end \n",
    "end"
   ]
  },
  {
   "cell_type": "code",
   "execution_count": 8,
   "metadata": {},
   "outputs": [],
   "source": [
    "for j in 1:4\n",
    "    problem_set = unsimple_problems\n",
    "    problem_id = j \n",
    "    constraints = problem_set[problem_id].constraints\n",
    "    pop_size = 100\n",
    "    dimension = problem_set[problem_id].dimension\n",
    "\n",
    "    f_pens(x::RealChromosome, constraints::Vector{EO.Constraint}) = sum(EO.Gs(x, constraints))\n",
    "    \n",
    "    F = typeof(enclose_arguments(EO.f_weighted_sum, ones(dimension)))\n",
    "    objective_function  = EO.MultiObjFunction{F}([problem_set[problem_id].objective, enclose_arguments(f_pens, constraints)])\n",
    "    initialization      = enclose_noargs(interval_real_initialization, dimension, pop_size, objective_function, 0, 100)\n",
    "    selection           = enclose_arguments(EO.s_tournament, 30, 3)\n",
    "    crossover           = enclose_arguments(EO.cr_parent_sum, pop_size)\n",
    "    mutation            = enclose_arguments(gaussian_preturbation!, 0.25)\n",
    "    replacement         = EO.enclose_replacement(EO.r_cNSGA, pop_size, constraints)\n",
    "    termination         = enclose_argument(iteration_termination, pop_size*100)\n",
    "    \n",
    "    for i in 1:100\n",
    "        solution = solvink_hart(objective_function, initialization, selection, crossover, mutation, replacement, termination)\n",
    "        save(joinpath(@__DIR__, \"benchmarks\", \"constr\", \"NSGA2\", \"hard\", \"problem_\"*string(j)*\"_\"*string(i)*\".jld2\"), \"solution\", solution)\n",
    "    end \n",
    "end"
   ]
  },
  {
   "cell_type": "markdown",
   "metadata": {},
   "source": [
    "ASCHEA"
   ]
  },
  {
   "cell_type": "code",
   "execution_count": 9,
   "metadata": {},
   "outputs": [],
   "source": [
    "for j in 1:4\n",
    "    problem_set = simple_problems\n",
    "    problem_id = j \n",
    "    constraints = problem_set[problem_id].constraints\n",
    "    pop_size = 100\n",
    "    dimension = problem_set[problem_id].dimension\n",
    "\n",
    "    penatly = EO.p_non_linear   # rg*sum(G(constraints)).^2\n",
    "    \n",
    "    objective_function  = problem_set[problem_id].objective\n",
    "    initialization      = enclose_noargs(interval_real_initialization, dimension, pop_size, objective_function, 0, 100)\n",
    "    selection           = EO.s_identity\n",
    "    crossover           = enclose_arguments(EO.cr_ASCHEA, pop_size, 1/3, constraints)\n",
    "    mutation            = enclose_arguments(gaussian_preturbation!, 0.25)\n",
    "    replacement         = EO.enclose_replacement(EO.r_ASCHEA, pop_size, 1/3, constraints)\n",
    "    termination         = enclose_argument(iteration_termination, pop_size*100)\n",
    "    \n",
    "    for i in 1:100\n",
    "        solution = solvink_hart(objective_function, initialization, selection, crossover, mutation, replacement, termination; constraints=constraints, penalty=penatly)\n",
    "        save(joinpath(@__DIR__, \"benchmarks\", \"constr\", \"aschea\", \"ez\", \"problem_\"*string(j)*\"_\"*string(i)*\".jld2\"), \"solution\", solution)\n",
    "    end \n",
    "end"
   ]
  },
  {
   "cell_type": "code",
   "execution_count": 10,
   "metadata": {},
   "outputs": [],
   "source": [
    "for j in 1:4\n",
    "    problem_set = unsimple_problems\n",
    "    problem_id = j \n",
    "    constraints = problem_set[problem_id].constraints\n",
    "    pop_size = 100\n",
    "    dimension = problem_set[problem_id].dimension\n",
    "\n",
    "    penatly = EO.p_non_linear   # rg*sum(G(constraints)).^2\n",
    "    \n",
    "    objective_function  = problem_set[problem_id].objective\n",
    "    initialization      = enclose_noargs(interval_real_initialization, dimension, pop_size, objective_function, 0, 100)\n",
    "    selection           = EO.s_identity\n",
    "    crossover           = enclose_arguments(EO.cr_ASCHEA, pop_size, 1/3, constraints)\n",
    "    mutation            = enclose_arguments(gaussian_preturbation!, 0.25)\n",
    "    replacement         = EO.enclose_replacement(EO.r_ASCHEA, pop_size, 1/3, constraints)\n",
    "    termination         = enclose_argument(iteration_termination, pop_size*100)\n",
    "    \n",
    "    for i in 1:100\n",
    "        solution = solvink_hart(objective_function, initialization, selection, crossover, mutation, replacement, termination; constraints=constraints, penalty=penatly)\n",
    "        save(joinpath(@__DIR__, \"benchmarks\", \"constr\", \"aschea\", \"hard\", \"problem_\"*string(j)*\"_\"*string(i)*\".jld2\"), \"solution\", solution)\n",
    "    end \n",
    "end"
   ]
  },
  {
   "cell_type": "markdown",
   "metadata": {},
   "source": [
    "vec aschea"
   ]
  },
  {
   "cell_type": "code",
   "execution_count": 11,
   "metadata": {},
   "outputs": [],
   "source": [
    "for j in 1:4\n",
    "    problem_set = simple_problems\n",
    "    problem_id = j \n",
    "    constraints = problem_set[problem_id].constraints\n",
    "    pop_size = 100\n",
    "    dimension = problem_set[problem_id].dimension\n",
    "\n",
    "    penatly = EO.p_non_linear   # rg*sum(G(constraints)).^2\n",
    "    \n",
    "    objective_function  = problem_set[problem_id].objective\n",
    "    initialization      = enclose_noargs(interval_real_initialization, dimension, pop_size, objective_function, 0, 100)\n",
    "    selection           = EO.s_identity\n",
    "    crossover           = enclose_arguments(EO.cr_ASCHEA, pop_size, 1/3, constraints)\n",
    "    mutation            = enclose_arguments(gaussian_preturbation!, 0.25)\n",
    "    replacement         = EO.enclose_replacement(EO.r_ASCHEA, pop_size, 1/3, constraints)\n",
    "    termination         = enclose_argument(iteration_termination, pop_size*100)\n",
    "    \n",
    "    for i in 1:100\n",
    "        solution = solvink_hart(objective_function, initialization, selection, crossover, mutation, replacement, termination, \"v\"; constraints=constraints, penalty=penatly)\n",
    "        save(joinpath(@__DIR__, \"benchmarks\", \"constr\", \"aschea_vec\", \"ez\", \"problem_\"*string(j)*\"_\"*string(i)*\".jld2\"), \"solution\", solution)\n",
    "    end \n",
    "end"
   ]
  },
  {
   "cell_type": "code",
   "execution_count": 12,
   "metadata": {},
   "outputs": [],
   "source": [
    "for j in 1:4\n",
    "    problem_set = unsimple_problems\n",
    "    problem_id = j \n",
    "    constraints = problem_set[problem_id].constraints\n",
    "    pop_size = 100\n",
    "    dimension = problem_set[problem_id].dimension\n",
    "\n",
    "    penatly = EO.p_non_linear   # rg*sum(G(constraints)).^2\n",
    "    \n",
    "    objective_function  = problem_set[problem_id].objective\n",
    "    initialization      = enclose_noargs(interval_real_initialization, dimension, pop_size, objective_function, 0, 100)\n",
    "    selection           = EO.s_identity\n",
    "    crossover           = enclose_arguments(EO.cr_ASCHEA, pop_size, 1/3, constraints)\n",
    "    mutation            = enclose_arguments(gaussian_preturbation!, 0.25)\n",
    "    replacement         = EO.enclose_replacement(EO.r_ASCHEA, pop_size, 1/3, constraints)\n",
    "    termination         = enclose_argument(iteration_termination, pop_size*100)\n",
    "    \n",
    "    for i in 1:100\n",
    "        solution = solvink_hart(objective_function, initialization, selection, crossover, mutation, replacement, termination, \"v\"; constraints=constraints, penalty=penatly)\n",
    "        save(joinpath(@__DIR__, \"benchmarks\", \"constr\", \"aschea_vec\", \"hard\", \"problem_\"*string(j)*\"_\"*string(i)*\".jld2\"), \"solution\", solution)\n",
    "    end \n",
    "end"
   ]
  }
 ],
 "metadata": {
  "kernelspec": {
   "display_name": "Julia 1.10.5",
   "language": "julia",
   "name": "julia-1.10"
  },
  "language_info": {
   "file_extension": ".jl",
   "mimetype": "application/julia",
   "name": "julia",
   "version": "1.10.5"
  }
 },
 "nbformat": 4,
 "nbformat_minor": 2
}
