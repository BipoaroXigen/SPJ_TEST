{
 "cells": [
  {
   "cell_type": "code",
   "execution_count": 1,
   "metadata": {},
   "outputs": [],
   "source": [
    "using EO"
   ]
  },
  {
   "cell_type": "code",
   "execution_count": 2,
   "metadata": {},
   "outputs": [],
   "source": [
    "G1, v1   = EO.parse_TSP_problem(\"ALL_tsp/st70\");\n",
    "G2, v2   = EO.parse_TSP_problem(\"ALL_tsp/a280\");\n",
    "G3, v3   = EO.parse_TSP_problem(\"ALL_tsp/att48\");\n",
    "G4, v4   = EO.parse_TSP_problem(\"ALL_tsp/berlin52\");\n",
    "G5, v5   = EO.parse_TSP_problem(\"ALL_tsp/ulysses16\");\n",
    "G6, v6   = EO.parse_TSP_problem(\"ALL_tsp/ulysses22\");\n",
    "G7, v7   = EO.parse_TSP_problem(\"ALL_tsp/ch130\");\n",
    "G8, v8   = EO.parse_TSP_problem(\"ALL_tsp/eil76\");\n",
    "G9, v9   = EO.parse_TSP_problem(\"ALL_tsp/rat195\");\n",
    "G10, v10 = EO.parse_TSP_problem(\"ALL_tsp/pr76\");\n",
    "\n",
    "graphs = [G1, G2, G3, G4, G5, G6, G7, G8, G9, G10];\n",
    "names = [\"st70\", \"a280\", \"att48\", \"berlin52\", \"ulysses16\", \"ulysses22\", \"ch130\", \"eil76\", \"rat195\", \"pr76\"];"
   ]
  },
  {
   "cell_type": "markdown",
   "metadata": {},
   "source": [
    "LS"
   ]
  },
  {
   "cell_type": "code",
   "execution_count": 3,
   "metadata": {},
   "outputs": [
    {
     "name": "stdout",
     "output_type": "stream",
     "text": [
      "graph done\n",
      "graph done\n",
      "graph done\n",
      "graph done\n",
      "graph done\n",
      "graph done\n",
      "graph done\n",
      "graph done\n",
      "graph done\n",
      "graph done\n"
     ]
    }
   ],
   "source": [
    "### run parameters setup\n",
    "G1 = graphs[1]\n",
    "pop_size = 1\n",
    "dimension = size(G1, 1)\n",
    "\n",
    "objective_function  = enclose_arguments(EO.f_dist_sum, G1)\n",
    "initialization      = enclose_noargs(TSP_initialization, dimension, pop_size, objective_function)\n",
    "selection           = EO.s_identity\n",
    "crossover           = identity\n",
    "mutation            = [enclose_arguments(EO.order_switch!, G1), enclose_arguments(EO.pair_switch!, G1), enclose_arguments(EO.weaklink_preturbation!, G1)]\n",
    "replacement         = EO.enclose_replacement(r_keep_best_n, pop_size)\n",
    "termination         = enclose_argument(iteration_termination, 100000)    # maximal number of objective function calls\n",
    "### run parameters setup\n",
    "\n",
    "EO.benchmark(objective_function, initialization, selection, crossover, mutation[1], replacement, termination, 10, \"LS_m1_G\"*string(1))\n",
    "EO.benchmark(objective_function, initialization, selection, crossover, mutation[2], replacement, termination, 10, \"LS_m2_G\"*string(1))\n",
    "EO.benchmark(objective_function, initialization, selection, crossover, mutation[3], replacement, termination, 10, \"LS_m3_G\"*string(1))\n",
    "println(\"graph done\")\n",
    "\n",
    "i = 2\n",
    "for G in graphs[2:end]\n",
    "    dimension = size(G, 1)\n",
    "    objective_function = enclose_arguments(EO.f_dist_sum, G)\n",
    "    initialization     = enclose_noargs(TSP_initialization, dimension, pop_size, objective_function)\n",
    "    mutation           = [enclose_arguments(EO.order_switch!, G), enclose_arguments(EO.pair_switch!, G), enclose_arguments(EO.weaklink_preturbation!, G)]\n",
    "    \n",
    "    EO.benchmark(objective_function, initialization, selection, crossover, mutation[1], replacement, termination, 10, \"LS_m1_G\"*string(i))\n",
    "    EO.benchmark(objective_function, initialization, selection, crossover, mutation[2], replacement, termination, 10, \"LS_m2_G\"*string(i))\n",
    "    EO.benchmark(objective_function, initialization, selection, crossover, mutation[3], replacement, termination, 10, \"LS_m3_G\"*string(i))\n",
    "    println(\"graph done\")\n",
    "    i+=1\n",
    "end"
   ]
  },
  {
   "cell_type": "markdown",
   "metadata": {},
   "source": [
    "ES"
   ]
  },
  {
   "cell_type": "code",
   "execution_count": null,
   "metadata": {},
   "outputs": [
    {
     "name": "stdout",
     "output_type": "stream",
     "text": [
      "graph done\n",
      "graph done\n",
      "graph done\n",
      "graph done\n",
      "graph done\n",
      "graph done\n",
      "graph done\n",
      "graph done\n",
      "graph done\n",
      "graph done\n"
     ]
    }
   ],
   "source": [
    "### run parameters setup\n",
    "G1 = graphs[1]\n",
    "pop_size = 100\n",
    "dimension = size(G1, 1)\n",
    "\n",
    "objective_function  = enclose_arguments(EO.f_dist_sum, G1)\n",
    "initialization      = enclose_noargs(TSP_initialization, dimension, pop_size, objective_function)\n",
    "selection           = enclose_arguments(s_tournament, pop_size, round(Int, pop_size/3))\n",
    "crossover           = [EO.cr_ordered, EO.cr_subtour, EO.cr_edge_recombination]\n",
    "mutation            = enclose_arguments(EO.order_switch!, G1)\n",
    "replacement         = EO.enclose_replacement(r_keep_best_n, pop_size)\n",
    "termination         = enclose_argument(iteration_termination, 100000)\n",
    "### run parameters setup\n",
    "\n",
    "EO.benchmark(objective_function, initialization, selection, crossover[1], mutation, replacement, termination, 10, \"nES_c1_G\"*string(1))\n",
    "EO.benchmark(objective_function, initialization, selection, crossover[2], mutation, replacement, termination, 10, \"nES_c2_G\"*string(1))\n",
    "EO.benchmark(objective_function, initialization, selection, crossover[3], mutation, replacement, termination, 10, \"nES_c3_G\"*string(1))\n",
    "println(\"graph done\")\n",
    "i = 2\n",
    "for G in graphs[2:end]\n",
    "    dimension = size(G, 1)\n",
    "    objective_function = enclose_arguments(EO.f_dist_sum, G)\n",
    "    initialization     = enclose_noargs(TSP_initialization, dimension, pop_size, objective_function)\n",
    "    mutation           = enclose_arguments(EO.order_switch!, G1)\n",
    "    \n",
    "    EO.benchmark(objective_function, initialization, selection, crossover[1], mutation, replacement, termination, 10, \"nES_c1_G\"*string(i))\n",
    "    EO.benchmark(objective_function, initialization, selection, crossover[2], mutation, replacement, termination, 10, \"nES_c2_G\"*string(i))\n",
    "    EO.benchmark(objective_function, initialization, selection, crossover[3], mutation, replacement, termination, 10, \"nES_c3_G\"*string(i))\n",
    "    println(\"graph done\")\n",
    "    i+=1\n",
    "end"
   ]
  },
  {
   "cell_type": "markdown",
   "metadata": {},
   "source": [
    "CH LS"
   ]
  },
  {
   "cell_type": "code",
   "execution_count": null,
   "metadata": {},
   "outputs": [],
   "source": [
    "### run parameters setup\n",
    "G1 = graphs[1]\n",
    "pop_size = 1\n",
    "dimension = size(G1, 1)\n",
    "\n",
    "objective_function  = enclose_arguments(EO.f_dist_sum, G1)\n",
    "initialization      = enclose_noargs(EO.TSP_NN_initialization, dimension, pop_size, objective_function, G1)\n",
    "selection           = EO.s_identity\n",
    "crossover           = identity\n",
    "mutation            = EO.order_switch!, G1)\n",
    "replacement         = EO.enclose_replacement(r_keep_best_n, pop_size)\n",
    "termination         = enclose_argument(iteration_termination, 100000)    # maximal number of objective function calls\n",
    "### run parameters setup\n",
    "\n",
    "EO.benchmark(objective_function, initialization, selection, crossover, mutation, replacement, termination, 10)\n",
    "\n",
    "for G in graphs[2:end]\n",
    "    dimension = size(G, 1)\n",
    "    objective_function = enclose_arguments(EO.f_dist_sum, G)\n",
    "    initialization      = enclose_noargs(EO.TSP_NN_initialization, dimension, pop_size, objective_function, G)\n",
    "    mutation           = [enclose_arguments(EO.order_switch!, G), enclose_arguments(EO.pair_switch!, G), enclose_arguments(EO.weaklink_preturbation!, G)]\n",
    "    \n",
    "    EO.benchmark(objective_function, initialization, selection, crossover, mutation, replacement, termination, 10)"
   ]
  },
  {
   "cell_type": "markdown",
   "metadata": {},
   "source": [
    "CH ES"
   ]
  },
  {
   "cell_type": "code",
   "execution_count": null,
   "metadata": {},
   "outputs": [],
   "source": [
    "### run parameters setup\n",
    "G1 = graphs[1]\n",
    "pop_size = 1\n",
    "dimension = size(G1, 1)\n",
    "\n",
    "objective_function  = enclose_arguments(EO.f_dist_sum, G1)\n",
    "initialization      = enclose_noargs(EO.TSP_NN_initialization, dimension, pop_size, objective_function, G1)\n",
    "selection           = enclose_arguments(s_tournament, pop_size*3, round(Int, pop_size/3))\n",
    "crossover           = EO.cr_edge_recombination\n",
    "mutation            = enclose_arguments(EO.order_switch!, G1)\n",
    "replacement         = EO.enclose_replacement(r_keep_best_n, pop_size)\n",
    "termination         = enclose_argument(iteration_termination, 10000)\n",
    "### run parameters setup\n",
    "\n",
    "EO.benchmark(objective_function, initialization, selection, crossover, mutation, replacement, termination, 10)\n",
    "\n",
    "for G in graphs[2:end]\n",
    "    dimension = size(G, 1)\n",
    "    objective_function = enclose_arguments(EO.f_dist_sum, G)\n",
    "    initialization      = enclose_noargs(EO.TSP_NN_initialization, dimension, pop_size, objective_function, G)\n",
    "    mutation           = [enclose_arguments(EO.order_switch!, G), enclose_arguments(EO.pair_switch!, G), enclose_arguments(EO.weaklink_preturbation!, G)]\n",
    "    \n",
    "    EO.benchmark(objective_function, initialization, selection, crossover, mutation, replacement, termination, 10)"
   ]
  },
  {
   "cell_type": "markdown",
   "metadata": {},
   "source": [
    "memetic LS->ES"
   ]
  },
  {
   "cell_type": "code",
   "execution_count": null,
   "metadata": {},
   "outputs": [],
   "source": [
    "### setup initial LS\n",
    "problem_i = 1\n",
    "\n",
    "G = graphs[problem_i]\n",
    "pop_size = 1\n",
    "dimension = size(G, 1)\n",
    "\n",
    "objective_function  = enclose_arguments(EO.f_dist_sum, G)\n",
    "initialization      = enclose_noargs(EO.TSP_initialization, dimension, pop_size, objective_function)\n",
    "selection           = EO.s_identity\n",
    "crossover           = identity\n",
    "mutation            = enclose_arguments(EO.order_switch!, G)\n",
    "replacement         = EO.enclose_replacement(r_keep_best_n, pop_size)\n",
    "termination         = enclose_argument(iteration_termination, 2000)    # maximal number of objective function calls\n",
    "\n",
    "### find initial solution with LS\n",
    "solution = solvink_hart(objective_function, initialization, selection, crossover, mutation, replacement, termination)\n",
    "\n",
    "### change to ES\n",
    "pop_size = 100\n",
    "initialization      = enclose_noargs(EO.copy_initialization, dimension, pop_size, objective_function, solution.top_coords) # create population from the BSF solution\n",
    "selection           = enclose_arguments(s_tournament, pop_size*3, round(Int, pop_size/3))\n",
    "crossover           = EO.cr_subtour\n",
    "termination         = enclose_argument(iteration_termination, 500)    # maximal number of objective function calls\n",
    "\n",
    "### finish the search with ES\n",
    "solution = solvink_hart(objective_function, initialization, selection, crossover, mutation, replacement, termination)\n",
    "@show solution.top_value\n",
    "\n",
    "EO.plot_results(solution, vertices[problem_i])"
   ]
  },
  {
   "cell_type": "markdown",
   "metadata": {},
   "source": [
    "memetic ES->LS"
   ]
  },
  {
   "cell_type": "code",
   "execution_count": null,
   "metadata": {},
   "outputs": [],
   "source": [
    "### run parameters setup\n",
    "problem_i = 10\n",
    "\n",
    "G = graphs[problem_i]\n",
    "pop_size = 100\n",
    "dimension = size(G, 1)\n",
    "\n",
    "objective_function  = enclose_arguments(EO.f_dist_sum, G)\n",
    "initialization      = enclose_noargs(TSP_initialization, dimension, pop_size, objective_function)\n",
    "selection           = enclose_arguments(s_tournament, pop_size*3, round(Int, pop_size/3))\n",
    "crossover           = EO.cr_subtour\n",
    "mutation            = enclose_arguments(EO.order_switch!, G)\n",
    "replacement         = EO.enclose_replacement(r_keep_best_n, pop_size)\n",
    "termination         = enclose_argument(iteration_termination, 500)\n",
    "### run parameters setup\n",
    "\n",
    "solution = solvink_hart(objective_function, initialization, selection, crossover, mutation, replacement, termination)\n",
    "\n",
    "### run parameters setup\n",
    "\n",
    "pop_size = 1\n",
    "\n",
    "initialization      = enclose_noargs(EO.copy_initialization, dimension, pop_size, objective_function, solution.top_coords)\n",
    "selection           = EO.s_identity\n",
    "crossover           = identity\n",
    "replacement         = EO.enclose_replacement(r_keep_best_n, pop_size)\n",
    "termination         = enclose_argument(iteration_termination, 2000)    # maximal number of objective function calls\n",
    "### run parameters setup\n",
    "\n",
    "solution = solvink_hart(objective_function, initialization, selection, crossover, mutation, replacement, termination)\n",
    "@show solution.top_value\n",
    "\n",
    "EO.plot_results(solution, vertices[problem_i])"
   ]
  }
 ],
 "metadata": {
  "kernelspec": {
   "display_name": "Julia 1.10.5",
   "language": "julia",
   "name": "julia-1.10"
  },
  "language_info": {
   "file_extension": ".jl",
   "mimetype": "application/julia",
   "name": "julia",
   "version": "1.10.5"
  }
 },
 "nbformat": 4,
 "nbformat_minor": 2
}
