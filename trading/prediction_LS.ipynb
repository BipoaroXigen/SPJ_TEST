{
 "cells": [
  {
   "cell_type": "markdown",
   "metadata": {},
   "source": [
    "# Evaluate the FS algo\n",
    "\n",
    "Take a time window of prices and decide if SELL, HOLD, BUY, untill the next transaction time.\n",
    "Iterate through whole history of one stock"
   ]
  },
  {
   "cell_type": "code",
   "execution_count": 6,
   "metadata": {},
   "outputs": [],
   "source": [
    "using EO, Plots, Lasso"
   ]
  },
  {
   "cell_type": "markdown",
   "metadata": {},
   "source": [
    "## Stock picking"
   ]
  },
  {
   "cell_type": "code",
   "execution_count": 7,
   "metadata": {},
   "outputs": [
    {
     "data": {
      "text/plain": [
       "generate_predictions (generic function with 1 method)"
      ]
     },
     "metadata": {},
     "output_type": "display_data"
    }
   ],
   "source": [
    "function generate_predictions(x_max, price, training_width, prediction_width, timestep, expert_cnt)\n",
    "\n",
    "    ps = Vector{Vector{Vector{Float64}}}()\n",
    "\n",
    "    iter = 1\n",
    "    training_i = 2:training_width+1\n",
    "    while training_i[end] + prediction_width < x_max\n",
    "        x = float.(collect(training_i))                                         # training set\n",
    "        xt = float.(collect(training_i[1]:(training_i[end]+prediction_width)))  # testing set\n",
    "\n",
    "        # define training\n",
    "        basis_functions = [+, -, *, /, sin, cos]\n",
    "        basis_variables = Vector{Any}([:var1])\n",
    "        pop_size = 1\n",
    "\n",
    "        objective_function  = enclose_arguments(EO.f_function_diff_squared, x, float.(price[training_i]))\n",
    "        initialization      = enclose_noargs(EO.one_expression_initialization, pop_size, objective_function, basis_functions, basis_variables)\n",
    "        selection           = EO.s_identity\n",
    "        crossover           = identity\n",
    "        mutation            = enclose_arguments(EO.subtree_mutation!, basis_functions, basis_variables)\n",
    "        replacement         = EO.enclose_replacement(r_keep_best_n, 1)\n",
    "        termination         = enclose_argument(iteration_termination, pop_size*100)\n",
    "        \n",
    "        # train expert models\n",
    "        predictions = Vector{Vector{Float64}}()\n",
    "        while length(predictions) < expert_cnt\n",
    "            print(\"\\rtraining expert $(length(predictions)+1) at iter $iter\")\n",
    "            try         # optimization can diverge\n",
    "                # train a model\n",
    "\n",
    "                @time solution = solvink_hart(objective_function, initialization, selection, crossover, mutation, replacement, termination)\n",
    "\n",
    "                model = EO.Expr_parser(solution);\n",
    "                prediction = model.(xt)\n",
    "                push!(predictions, prediction)\n",
    "            catch\n",
    "                display(\"failed\")\n",
    "                continue\n",
    "            end\n",
    "        end\n",
    "        iter += 1\n",
    "        # evaluate the predictions\n",
    "        push!(ps, predictions)\n",
    "\n",
    "        #training_i .+= timestep\n",
    "        training_i = (training_i[1]+timestep):(training_i[end]+timestep)\n",
    "    end\n",
    "    return ps\n",
    "end"
   ]
  },
  {
   "cell_type": "code",
   "execution_count": 8,
   "metadata": {},
   "outputs": [],
   "source": [
    "#= using CSV, DataFrames, FileIO\n",
    "\n",
    "set = \"Hanz\"\n",
    "names = [\"3M\", \"Apple\", \"Coca-Cola\", \"Exxon Mobil\", \"Ford Motor\", \"Intel\", \"Microsoft\", \"NVIDIA\", \"Pfizer\"]\n",
    "#set = \"SAT\"\n",
    "#names = [\"EA\", \"K\"]\n",
    "name = names[1]\n",
    "if set == \"SAT\"\n",
    "    data = CSV.read(\"../trading_data/archive(4)/sp500_stocks.csv\", DataFrame)\n",
    "    price = filter(\"Symbol\" => x->x == name, data).Open\n",
    "else\n",
    "    data = CSV.read(\"../trading_data/whole_dataset/\"*name*\" Stock Price History.csv\", DataFrame)\n",
    "    price = reverse(data.Price)\n",
    "end\n",
    "\n",
    "x = collect(1:length(price))\n",
    "\n",
    "training_width = 100\n",
    "prediction_width = 10\n",
    "timestep = 10\n",
    "expert_cnt = 5\n",
    "\n",
    "#res = generate_predictions(length(price), price, training_width, prediction_width, timestep, expert_cnt);\n",
    "res = generate_predictions(length(price), price, training_width, prediction_width, timestep, expert_cnt);\n",
    "# save for reuse\n",
    "save(joinpath(@__DIR__, \"evaluations\", \"LS\", name, \"predictions.jld2\"), \"res\", [res, price]) =#"
   ]
  },
  {
   "cell_type": "code",
   "execution_count": 9,
   "metadata": {},
   "outputs": [],
   "source": [
    "using EO, Plots, Lasso, CSV, DataFrames, FileIO\n",
    "\n",
    "set = \"Hanz\"\n",
    "names = [#= \"3M\",  =#\"Apple\", \"Coca-Cola\", \"Exxon Mobil\", \"Ford Motor\", \"Intel\", \"Microsoft\", \"NVIDIA\", \"Pfizer\"]\n",
    "#set = \"SAT\"\n",
    "#names = [\"EA\", \"K\"]\n",
    "\n",
    "for name in names\n",
    "\n",
    "    if set == \"SAT\"\n",
    "        data = CSV.read(\"../trading_data/archive(4)/sp500_stocks.csv\", DataFrame)\n",
    "        price = filter(\"Symbol\" => x->x == name, data).Open\n",
    "    else\n",
    "        data = CSV.read(\"../trading_data/whole_dataset/\"*name*\" Stock Price History.csv\", DataFrame)\n",
    "        price = reverse(data.Price)\n",
    "    end\n",
    "    \n",
    "    x = collect(1:length(price))\n",
    "\n",
    "    training_width = 100\n",
    "    prediction_width = 10\n",
    "    timestep = 10\n",
    "    expert_cnt = 10\n",
    "    \n",
    "    res = generate_predictions(length(price), price, training_width, prediction_width, timestep, expert_cnt);\n",
    "    # save for reuse\n",
    "    save(joinpath(@__DIR__, \"evaluations\", \"LS\", name, \"predictions.jld2\"), \"res\", [res, price])\n",
    "end"
   ]
  }
 ],
 "metadata": {
  "kernelspec": {
   "display_name": "Julia 1.10.5",
   "language": "julia",
   "name": "julia-1.10"
  },
  "language_info": {
   "file_extension": ".jl",
   "mimetype": "application/julia",
   "name": "julia",
   "version": "1.10.5"
  }
 },
 "nbformat": 4,
 "nbformat_minor": 2
}
